{
  "nbformat": 4,
  "nbformat_minor": 0,
  "metadata": {
    "colab": {
      "provenance": []
    },
    "kernelspec": {
      "name": "python3",
      "display_name": "Python 3"
    },
    "language_info": {
      "name": "python"
    }
  },
  "cells": [
    {
      "cell_type": "code",
      "execution_count": null,
      "metadata": {
        "id": "xTv4HjP5TE9a"
      },
      "outputs": [],
      "source": [
        "# Install necessary libraries (Colab)\n",
        "!pip install requests beautifulsoup4\n"
      ]
    },
    {
      "cell_type": "code",
      "source": [
        "!pip install requests"
      ],
     
      "execution_count": null,
      "outputs": []
    },
    {
      "cell_type": "code",
      "source": [
        "!pip install requests pandas"
      ],
      
      "execution_count": null,
      "outputs": []
    },
    {
      "cell_type": "code",
      "source": [
        "!pip install requests  ipywidgets"
      ],
      "metadata": {
        "collapsed": true,
        "id": "8KTfW5TcTnSk"
      },
      "execution_count": null,
      "outputs": []
    },
    {
      "cell_type": "code",
      "source": [
        "!pip install requests pillow"
      ],
      "metadata": {
        "collapsed": true,
        "id": "eedVnPNcUAi_"
      },
      "execution_count": null,
      "outputs": []
    },
    {
      "cell_type": "code",
      "source": [
        "from PIL import Image\n",
        "from io import BytesIO"
      ],
      "metadata": {
        "id": "jA0BOLWrUBsZ"
      },
      "execution_count": null,
      "outputs": []
    },
    {
      "cell_type": "code",
      "source": [
        "import plotly.express as px\n"
      ],
      "metadata": {
        "id": "vtGfOMNLTUtk"
      },
      "execution_count": null,
      "outputs": []
    },
    {
      "cell_type": "code",
      "source": [
        "from IPython.display import display, HTML"
      ],
      "metadata": {
        "id": "-u7sVI53WNFe"
      },
      "execution_count": null,
      "outputs": []
    },
    {
      "cell_type": "code",
      "source": [
        "import requests"
      ],
      "metadata": {
        "id": "fPnKzp94WCIi"
      },
      "execution_count": null,
      "outputs": []
    },
    {
      "cell_type": "code",
      "source": [
        "import pandas as pd"
      ],
      "metadata": {
        "id": "gLeLmNn1Vs-F"
      },
      "execution_count": null,
      "outputs": []
    },
    {
      "cell_type": "code",
      "source": [
        "import ipywidgets as widgets"
      ],
      "metadata": {
        "id": "G5e7XcVITxer"
      },
      "execution_count": null,
      "outputs": []
    },
    {
      "cell_type": "code",
      "source": [
        "# Simple mapping\n",
        "weather_styles = {\n",
        "    \"Sunny\": {\"icon\": \"https://img.icons8.com/color/96/000000/sun--v1.png\", \"bg\": \"#FFD700\"},\n",
        "    \"Clear\": {\"icon\": \"https://img.icons8.com/color/96/000000/sun--v1.png\", \"bg\": \"#87CEFA\"},\n",
        "    \"Partly cloudy\": {\"icon\": \"https://img.icons8.com/color/96/000000/partly-cloudy-day.png\", \"bg\": \"#B0C4DE\"},\n",
        "    \"Cloudy\": {\"icon\": \"https://img.icons8.com/color/96/000000/cloud.png\", \"bg\": \"#A9A9A9\"},\n",
        "    \"Overcast\": {\"icon\": \"https://img.icons8.com/color/96/000000/cloud.png\", \"bg\": \"#778899\"},\n",
        "    \"Rain\": {\"icon\": \"https://img.icons8.com/color/96/000000/rain.png\", \"bg\": \"#4682B4\"},\n",
        "    \"Snow\": {\"icon\": \"https://img.icons8.com/color/96/000000/snow.png\", \"bg\": \"#ADD8E6\"},\n",
        "    \"Mist\": {\"icon\": \"https://img.icons8.com/color/96/000000/fog-day.png\", \"bg\": \"#C0C0C0\"}\n",
        "}\n",
        "\n",
        "def get_style(condition):\n",
        "    for key in weather_styles:\n",
        "        if key.lower() in condition.lower():\n",
        "            return weather_styles[key]\n",
        "    return {\"icon\": \"https://img.icons8.com/color/96/000000/cloud.png\", \"bg\": \"#FFFFFF\"}  # default\n"
      ],
      "metadata": {
        "id": "dSCl7ePDUP37"
      },
      "execution_count": null,
      "outputs": []
    },
    {
      "cell_type": "code",
      "source": [
        "def get_weather(city):\n",
        "    url = f\"https://wttr.in/{city}?format=j1\"\n",
        "    try:\n",
        "        r = requests.get(url)\n",
        "        data = r.json()\n",
        "\n",
        "        current = data['current_condition'][0]\n",
        "        temp = current['temp_C']\n",
        "        humidity = current['humidity']\n",
        "        desc = current['weatherDesc'][0]['value']\n",
        "\n",
        "        # Forecast (next 3 days)\n",
        "        forecast = []\n",
        "        for day in data['weather']:\n",
        "            forecast.append([day['date'], int(day['avgtempC'])])\n",
        "        forecast_df = pd.DataFrame(forecast, columns=['Date', 'AvgTempC'])\n",
        "\n",
        "        return temp, humidity, desc, forecast_df\n",
        "    except Exception as e:\n",
        "        return None, None, f\"Error: {e}\", pd.DataFrame()\n"
      ],
      "metadata": {
        "id": "8PNq7ocNTcKn"
      },
      "execution_count": null,
      "outputs": []
    },
    {
      "cell_type": "code",
      "source": [
        "# Widgets\n",
        "city_input = widgets.Text(value=\"London\", description=\"City:\", placeholder=\"Enter city name\")\n",
        "button = widgets.Button(description=\"Get Weather\", button_style=\"info\")\n",
        "output = widgets.Output()\n",
        "\n",
        "def on_button_click(b):\n",
        "    with output:\n",
        "        output.clear_output()\n",
        "        city = city_input.value.strip()\n",
        "        if not city:\n",
        "            print(\"❌ Please enter a city name.\")\n",
        "            return\n",
        "\n",
        "        temp, humidity, desc, forecast_df = get_weather(city)\n",
        "        if temp:\n",
        "            style = get_style(desc)\n",
        "\n",
        "            # Display weather with icon and colored background\n",
        "            display(HTML(f\"\"\"\n",
        "                <div style='background-color:{style['bg']}; padding:20px; border-radius:15px; text-align:center;'>\n",
        "                    <h2>🌍 Weather in {city.title()}</h2>\n",
        "                    <img src=\"{style['icon']}\" width=\"80\" height=\"80\"><br>\n",
        "                    <p>🌡️ <b>Temperature:</b> {temp} °C</p>\n",
        "                    <p>💧 <b>Humidity:</b> {humidity}%</p>\n",
        "                    <p>☁️ <b>Condition:</b> {desc}</p>\n",
        "                </div>\n",
        "            \"\"\"))\n",
        "\n",
        "            # Plot 3-day forecast\n",
        "            fig = px.line(forecast_df, x='Date', y='AvgTempC',\n",
        "                          title=f\"3-Day Forecast for {city.title()}\",\n",
        "                          markers=True, line_shape='spline')\n",
        "            fig.update_layout(template=\"plotly_dark\", title_x=0.5)\n",
        "            fig.show()\n",
        "        else:\n",
        "            print(desc)\n",
        "\n",
        "button.on_click(on_button_click)\n",
        "\n",
        "# Display UI\n",
        "display(city_input, button, output)\n"
      ],
      "metadata": {
        "id": "XrXV4gXgTfaL"
      },
      "execution_count": null,
      "outputs": []
    }
  ]
}